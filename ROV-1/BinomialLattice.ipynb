{
 "cells": [
  {
   "cell_type": "code",
   "execution_count": 2,
   "metadata": {},
   "outputs": [],
   "source": [
    "import numpy as np"
   ]
  },
  {
   "cell_type": "code",
   "execution_count": 9,
   "metadata": {},
   "outputs": [
    {
     "name": "stdout",
     "output_type": "stream",
     "text": [
      "Option value is 7.43\n"
     ]
    }
   ],
   "source": [
    "dis_f = np.exp(-0.05)\n",
    "S0 = 50\n",
    "K = 52\n",
    "σ = 0.3\n",
    "up = np.exp(σ)\n",
    "down = 1 / up\n",
    "p = (np.exp(0.05) - down) / (up - down)\n",
    "mu = np.resize(np.arange(3), (3, 3))\n",
    "md = mu.T\n",
    "mu = up ** (mu - md)\n",
    "md = down ** md\n",
    "S = S0 * mu * md\n",
    "\n",
    "V = np.zeros_like(S)\n",
    "D = np.full((3, 3), '', dtype='object_')\n",
    "V[:, -1] = np.where(K - S[:, -1] > 0, K - S[:, -1], 0)\n",
    "D[:, -1] = np.where(K - S[:, -1] > 0, 'abandon', 'continue')\n",
    "\n",
    "for tp in range(3-2, -1, -1):\n",
    "    V[:, tp] = (V[:, tp + 1] * p + np.roll(V[:, tp + 1],\n",
    "                                           shift=-1, axis=0) * (1 - p)) * dis_f\n",
    "    D[:, tp] = np.where(K - S[:, tp] > V[:, tp], 'abandon', 'continue')\n",
    "    V[:, tp] = np.where(K - S[:, tp] > V[:, tp], K - S[:, tp], V[:, tp])\n",
    "\n",
    "D[:, 0] = \"start\"\n",
    "option_value = (V[0, 0])\n",
    "print('Option value is', np.round(option_value,2))\n"
   ]
  }
 ],
 "metadata": {
  "kernelspec": {
   "display_name": "Python 3",
   "language": "python",
   "name": "python3"
  },
  "language_info": {
   "codemirror_mode": {
    "name": "ipython",
    "version": 3
   },
   "file_extension": ".py",
   "mimetype": "text/x-python",
   "name": "python",
   "nbconvert_exporter": "python",
   "pygments_lexer": "ipython3",
   "version": "3.7.3"
  }
 },
 "nbformat": 4,
 "nbformat_minor": 2
}
