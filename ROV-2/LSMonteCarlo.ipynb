{
 "cells": [
  {
   "cell_type": "markdown",
   "metadata": {},
   "source": [
    "Replication of the first example in \"Valuing American Options by Simulation: A Simple Least-Squares Approach\" by Longstaff and Schwartz (The Review of Financial Studies Spring 2001 Vol. 1, No. 1, pp. 113-147)"
   ]
  },
  {
   "cell_type": "code",
   "execution_count": 6,
   "metadata": {},
   "outputs": [],
   "source": [
    "import numpy as np"
   ]
  },
  {
   "cell_type": "code",
   "execution_count": 7,
   "metadata": {},
   "outputs": [],
   "source": [
    "K = 1.1\n",
    "riskless_rate = 0.06\n",
    "disc_rate = np.exp(-riskless_rate)\n",
    "\n",
    "\n",
    "S0 = np.array([1., 1., 1., 1., 1., 1., 1., 1.])\n",
    "S1 = np.array([1.09, 1.16, 1.22, 0.93, 1.11, 0.76, 0.92, 0.88])\n",
    "S2 = np.array([1.08, 1.26, 1.07, 0.97, 1.56, 0.77, 0.84, 1.22])\n",
    "S3 = np.array([1.34, 1.54, 1.03, 0.92, 1.52, 0.90, 1.01, 1.34])\n",
    "S = np.vstack((S0, S1, S2, S3)).T\n",
    "\n",
    "\n",
    "CF = np.zeros((8, 4))\n",
    "V = np.maximum(K - S, 0)\n",
    "CF[:, 3] = V[:, 3]"
   ]
  },
  {
   "cell_type": "code",
   "execution_count": 8,
   "metadata": {},
   "outputs": [
    {
     "name": "stdout",
     "output_type": "stream",
     "text": [
      "American put option value is 0.1144\n",
      "\n",
      "Cash-flow matrix\n"
     ]
    },
    {
     "data": {
      "text/plain": [
       "array([[0.  , 0.  , 0.  ],\n",
       "       [0.  , 0.  , 0.  ],\n",
       "       [0.  , 0.  , 0.07],\n",
       "       [0.17, 0.  , 0.  ],\n",
       "       [0.  , 0.  , 0.  ],\n",
       "       [0.34, 0.  , 0.  ],\n",
       "       [0.18, 0.  , 0.  ],\n",
       "       [0.22, 0.  , 0.  ]])"
      ]
     },
     "execution_count": 8,
     "metadata": {},
     "output_type": "execute_result"
    }
   ],
   "source": [
    "for t in range(2, 0, -1):\n",
    "    ind = V[:, t] > 0\n",
    "    X = S[ind, t]\n",
    "    Y = V[ind, t + 1] * disc_rate\n",
    "    reg = np.polyfit(X, Y, 2)\n",
    "    C_pred = np.polyval(reg, X)\n",
    "    CF[ind, t] = np.where(V[ind, t] > C_pred, V[ind, t], 0)\n",
    "    CF[CF[:, t] > 0, t + 1:] = 0\n",
    "\n",
    "disc_rate_mat = np.cumprod(np.full((1, 3), disc_rate))\n",
    "print(\"American put option value is {:.4f}\\n\"\n",
    "      .format(np.sum(CF[:, 1:] * disc_rate_mat)/8))\n",
    "print('Cash-flow matrix')\n",
    "CF[:, 1:]"
   ]
  }
 ],
 "metadata": {
  "kernelspec": {
   "display_name": "Python 3",
   "language": "python",
   "name": "python3"
  },
  "language_info": {
   "codemirror_mode": {
    "name": "ipython",
    "version": 3
   },
   "file_extension": ".py",
   "mimetype": "text/x-python",
   "name": "python",
   "nbconvert_exporter": "python",
   "pygments_lexer": "ipython3",
   "version": "3.7.3"
  }
 },
 "nbformat": 4,
 "nbformat_minor": 2
}
